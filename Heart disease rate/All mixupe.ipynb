{
 "cells": [
  {
   "cell_type": "code",
   "execution_count": 1,
   "metadata": {},
   "outputs": [],
   "source": [
    "import numpy as np #deals Numerical Values\n",
    "import pandas as pd\n",
    "from sklearn.model_selection import train_test_split\n",
    "from sklearn.tree import DecisionTreeClassifier \n",
    "from sklearn.svm import SVC\n",
    "from sklearn.ensemble import RandomForestClassifier\n",
    "from sklearn.naive_bayes import GaussianNB\n",
    "from sklearn.linear_model  import LogisticRegression, LinearRegression\n",
    "from sklearn.metrics import accuracy_score , classification_report\n"
   ]
  },
  {
   "cell_type": "code",
   "execution_count": 2,
   "metadata": {},
   "outputs": [],
   "source": [
    "heart_disease = pd.read_csv('C:/Users/Mudassir Raza/Desktop/AI Project/Data-set Heart/heart.csv')"
   ]
  },
  {
   "cell_type": "code",
   "execution_count": 3,
   "metadata": {},
   "outputs": [],
   "source": [
    "feature_columns = ['age','sex','cp','trestbps','chol','fbs','restecg','thalach','exang','oldpeak','slope','ca','thal']\n",
    "target_column = 'target'"
   ]
  },
  {
   "cell_type": "code",
   "execution_count": 4,
   "metadata": {},
   "outputs": [],
   "source": [
    "x = heart_disease[feature_columns]\n",
    "y = heart_disease[target_column]"
   ]
  },
  {
   "cell_type": "code",
   "execution_count": 5,
   "metadata": {},
   "outputs": [],
   "source": [
    "x_train , x_test , y_train , y_test = train_test_split(x,y,test_size=0.3, random_state=42)"
   ]
  },
  {
   "cell_type": "code",
   "execution_count": 6,
   "metadata": {},
   "outputs": [],
   "source": [
    "nb_model = GaussianNB()\n",
    "lr_model = LogisticRegression()\n",
    "ln_model = LinearRegression()\n",
    "dt_model = DecisionTreeClassifier()\n",
    "svm_model =SVC()\n",
    "random_model = RandomForestClassifier()"
   ]
  },
  {
   "cell_type": "code",
   "execution_count": 7,
   "metadata": {},
   "outputs": [
    {
     "name": "stdout",
     "output_type": "stream",
     "text": [
      "Navie bayes\n",
      "Accuracy: 81.49%\n",
      "              precision    recall  f1-score   support\n",
      "\n",
      "           0       0.88      0.74      0.81       159\n",
      "           1       0.76      0.89      0.82       149\n",
      "\n",
      "    accuracy                           0.81       308\n",
      "   macro avg       0.82      0.82      0.81       308\n",
      "weighted avg       0.82      0.81      0.81       308\n",
      "\n"
     ]
    }
   ],
   "source": [
    "nb_model.fit(x_train,y_train)\n",
    "nb_model_predictions = nb_model.predict(x_test)\n",
    "nb_model_accuracy = accuracy_score(y_test,nb_model_predictions)\n",
    "print('Navie bayes')\n",
    "print(f'Accuracy: {nb_model_accuracy*100:.2f}%')\n",
    "print(classification_report(y_test,nb_model_predictions))"
   ]
  },
  {
   "cell_type": "code",
   "execution_count": 8,
   "metadata": {},
   "outputs": [
    {
     "name": "stdout",
     "output_type": "stream",
     "text": [
      "Logistic Regression\n",
      "Accuracy :81.17%\n",
      "              precision    recall  f1-score   support\n",
      "\n",
      "           0       0.87      0.75      0.80       159\n",
      "           1       0.77      0.88      0.82       149\n",
      "\n",
      "    accuracy                           0.81       308\n",
      "   macro avg       0.82      0.81      0.81       308\n",
      "weighted avg       0.82      0.81      0.81       308\n",
      "\n"
     ]
    },
    {
     "name": "stderr",
     "output_type": "stream",
     "text": [
      "c:\\Users\\Mudassir Raza\\AppData\\Local\\Programs\\Python\\Python313\\Lib\\site-packages\\sklearn\\linear_model\\_logistic.py:469: ConvergenceWarning: lbfgs failed to converge (status=1):\n",
      "STOP: TOTAL NO. of ITERATIONS REACHED LIMIT.\n",
      "\n",
      "Increase the number of iterations (max_iter) or scale the data as shown in:\n",
      "    https://scikit-learn.org/stable/modules/preprocessing.html\n",
      "Please also refer to the documentation for alternative solver options:\n",
      "    https://scikit-learn.org/stable/modules/linear_model.html#logistic-regression\n",
      "  n_iter_i = _check_optimize_result(\n"
     ]
    }
   ],
   "source": [
    "lr_model.fit(x_train , y_train)\n",
    "lr_model_prediction = lr_model.predict(x_test)\n",
    "lr_model_accuracy = accuracy_score(y_test,lr_model_prediction)\n",
    "print('Logistic Regression')\n",
    "print(f'Accuracy :{lr_model_accuracy * 100:.2f}%')\n",
    "print(classification_report(y_test,lr_model_prediction))"
   ]
  },
  {
   "cell_type": "code",
   "execution_count": 9,
   "metadata": {},
   "outputs": [
    {
     "name": "stdout",
     "output_type": "stream",
     "text": [
      "Linear Regression\n",
      "Accuracy : 81.49%\n",
      "              precision    recall  f1-score   support\n",
      "\n",
      "           0       0.89      0.74      0.80       159\n",
      "           1       0.76      0.90      0.82       149\n",
      "\n",
      "    accuracy                           0.81       308\n",
      "   macro avg       0.82      0.82      0.81       308\n",
      "weighted avg       0.83      0.81      0.81       308\n",
      "\n"
     ]
    }
   ],
   "source": [
    "lin_reg_model = LinearRegression()\n",
    "lin_reg_model.fit(x_train , y_train)\n",
    "lin_reg_pred_binary = [1 if pred >= 0.5 else 0 for pred in lin_reg_model.predict(x_test)]\n",
    "lin_reg_model= accuracy_score(y_test, lin_reg_pred_binary)\n",
    "print('Linear Regression')\n",
    "print(f'Accuracy : {lin_reg_model * 100:.2f}%')\n",
    "print(classification_report(y_test,lin_reg_pred_binary))\n"
   ]
  },
  {
   "cell_type": "code",
   "execution_count": 10,
   "metadata": {},
   "outputs": [
    {
     "name": "stdout",
     "output_type": "stream",
     "text": [
      "Decision Tree\n",
      "Accuracy: 97.08%\n",
      "              precision    recall  f1-score   support\n",
      "\n",
      "           0       0.95      1.00      0.97       159\n",
      "           1       1.00      0.94      0.97       149\n",
      "\n",
      "    accuracy                           0.97       308\n",
      "   macro avg       0.97      0.97      0.97       308\n",
      "weighted avg       0.97      0.97      0.97       308\n",
      "\n"
     ]
    }
   ],
   "source": [
    "dt_model.fit(x_train, y_train)\n",
    "dt_pred = dt_model.predict(x_test)\n",
    "dt_model.accuracy = accuracy_score(y_test, dt_pred)\n",
    "print('Decision Tree')\n",
    "print(f'Accuracy: {dt_model.accuracy * 100:.2f}%')\n",
    "print(classification_report(y_test, dt_pred))"
   ]
  },
  {
   "cell_type": "code",
   "execution_count": 11,
   "metadata": {},
   "outputs": [
    {
     "name": "stdout",
     "output_type": "stream",
     "text": [
      "Support Vector Machine\n",
      "Accuracy :67.53%\n",
      "              precision    recall  f1-score   support\n",
      "\n",
      "           0       0.71      0.63      0.67       159\n",
      "           1       0.65      0.72      0.68       149\n",
      "\n",
      "    accuracy                           0.68       308\n",
      "   macro avg       0.68      0.68      0.68       308\n",
      "weighted avg       0.68      0.68      0.67       308\n",
      "\n"
     ]
    }
   ],
   "source": [
    "svm_model.fit(x_train, y_train)\n",
    "svm_pred = svm_model.predict(x_test)\n",
    "svm_accuracy = accuracy_score(y_test, svm_pred)\n",
    "print('Support Vector Machine')\n",
    "print(f'Accuracy :{svm_accuracy * 100:.2f}%')\n",
    "print(classification_report(y_test,svm_pred))"
   ]
  },
  {
   "cell_type": "code",
   "execution_count": 12,
   "metadata": {},
   "outputs": [
    {
     "name": "stdout",
     "output_type": "stream",
     "text": [
      "Random forest\n",
      "Accuracy:98.05%\n",
      "              precision    recall  f1-score   support\n",
      "\n",
      "           0       0.96      1.00      0.98       159\n",
      "           1       1.00      0.96      0.98       149\n",
      "\n",
      "    accuracy                           0.98       308\n",
      "   macro avg       0.98      0.98      0.98       308\n",
      "weighted avg       0.98      0.98      0.98       308\n",
      "\n"
     ]
    }
   ],
   "source": [
    "random_model.fit(x_train , y_train)\n",
    "random_predict = random_model.predict(x_test)\n",
    "random_accuracy = accuracy_score(y_test,random_predict)\n",
    "print('Random forest')\n",
    "print(f'Accuracy:{random_accuracy *100:.2f}%')\n",
    "print(classification_report(y_test,random_predict))"
   ]
  }
 ],
 "metadata": {
  "kernelspec": {
   "display_name": "Python 3",
   "language": "python",
   "name": "python3"
  },
  "language_info": {
   "codemirror_mode": {
    "name": "ipython",
    "version": 3
   },
   "file_extension": ".py",
   "mimetype": "text/x-python",
   "name": "python",
   "nbconvert_exporter": "python",
   "pygments_lexer": "ipython3",
   "version": "3.13.0"
  }
 },
 "nbformat": 4,
 "nbformat_minor": 2
}
