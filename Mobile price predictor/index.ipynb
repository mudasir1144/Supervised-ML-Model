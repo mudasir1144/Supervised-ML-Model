{
 "cells": [
  {
   "cell_type": "code",
   "execution_count": 95,
   "metadata": {},
   "outputs": [],
   "source": [
    "import numpy as np\n",
    "import pandas as pd \n",
    "from sklearn.model_selection import train_test_split\n",
    "from sklearn.naive_bayes import GaussianNB\n",
    "from sklearn.linear_model import LinearRegression, LogisticRegression\n",
    "from sklearn.tree import DecisionTreeClassifier\n",
    "from sklearn.svm import SVC\n",
    "from sklearn.ensemble import RandomForestClassifier\n",
    "from sklearn.metrics import accuracy_score , classification_report\n",
    "from sklearn.preprocessing import Binarizer"
   ]
  },
  {
   "cell_type": "code",
   "execution_count": 96,
   "metadata": {},
   "outputs": [],
   "source": [
    "data = pd.read_csv('C:/Users/Mudassir Raza/Desktop/AI Project/Data-set Mobile price predictior/train.csv')"
   ]
  },
  {
   "cell_type": "code",
   "execution_count": 97,
   "metadata": {},
   "outputs": [],
   "source": [
    "# Select feature columns and target column\n",
    "feature_columns = ['battery_power', 'int_memory']  # Replace with your actual feature column names\n",
    "target_column = 'price_range'  # Replace with your actual target column name"
   ]
  },
  {
   "cell_type": "code",
   "execution_count": 98,
   "metadata": {},
   "outputs": [
    {
     "data": {
      "text/plain": [
       "(2000, 21)"
      ]
     },
     "execution_count": 98,
     "metadata": {},
     "output_type": "execute_result"
    }
   ],
   "source": [
    "data.shape"
   ]
  },
  {
   "cell_type": "code",
   "execution_count": 99,
   "metadata": {},
   "outputs": [
    {
     "data": {
      "text/plain": [
       "<bound method DataFrame.info of       battery_power  blue  clock_speed  ...  touch_screen  wifi  price_range\n",
       "0               842     0          2.2  ...             0     1            1\n",
       "1              1021     1          0.5  ...             1     0            2\n",
       "2               563     1          0.5  ...             1     0            2\n",
       "3               615     1          2.5  ...             0     0            2\n",
       "4              1821     1          1.2  ...             1     0            1\n",
       "...             ...   ...          ...  ...           ...   ...          ...\n",
       "1995            794     1          0.5  ...             1     0            0\n",
       "1996           1965     1          2.6  ...             1     1            2\n",
       "1997           1911     0          0.9  ...             1     0            3\n",
       "1998           1512     0          0.9  ...             1     1            0\n",
       "1999            510     1          2.0  ...             1     1            3\n",
       "\n",
       "[2000 rows x 21 columns]>"
      ]
     },
     "execution_count": 99,
     "metadata": {},
     "output_type": "execute_result"
    }
   ],
   "source": [
    "data.info"
   ]
  },
  {
   "cell_type": "code",
   "execution_count": 100,
   "metadata": {},
   "outputs": [
    {
     "data": {
      "text/html": [
       "<div>\n",
       "<style scoped>\n",
       "    .dataframe tbody tr th:only-of-type {\n",
       "        vertical-align: middle;\n",
       "    }\n",
       "\n",
       "    .dataframe tbody tr th {\n",
       "        vertical-align: top;\n",
       "    }\n",
       "\n",
       "    .dataframe thead th {\n",
       "        text-align: right;\n",
       "    }\n",
       "</style>\n",
       "<table border=\"1\" class=\"dataframe\">\n",
       "  <thead>\n",
       "    <tr style=\"text-align: right;\">\n",
       "      <th></th>\n",
       "      <th>battery_power</th>\n",
       "      <th>blue</th>\n",
       "      <th>clock_speed</th>\n",
       "      <th>dual_sim</th>\n",
       "      <th>fc</th>\n",
       "      <th>four_g</th>\n",
       "      <th>int_memory</th>\n",
       "      <th>m_dep</th>\n",
       "      <th>mobile_wt</th>\n",
       "      <th>n_cores</th>\n",
       "      <th>pc</th>\n",
       "      <th>px_height</th>\n",
       "      <th>px_width</th>\n",
       "      <th>ram</th>\n",
       "      <th>sc_h</th>\n",
       "      <th>sc_w</th>\n",
       "      <th>talk_time</th>\n",
       "      <th>three_g</th>\n",
       "      <th>touch_screen</th>\n",
       "      <th>wifi</th>\n",
       "      <th>price_range</th>\n",
       "    </tr>\n",
       "  </thead>\n",
       "  <tbody>\n",
       "    <tr>\n",
       "      <th>0</th>\n",
       "      <td>842</td>\n",
       "      <td>0</td>\n",
       "      <td>2.2</td>\n",
       "      <td>0</td>\n",
       "      <td>1</td>\n",
       "      <td>0</td>\n",
       "      <td>7</td>\n",
       "      <td>0.6</td>\n",
       "      <td>188</td>\n",
       "      <td>2</td>\n",
       "      <td>2</td>\n",
       "      <td>20</td>\n",
       "      <td>756</td>\n",
       "      <td>2549</td>\n",
       "      <td>9</td>\n",
       "      <td>7</td>\n",
       "      <td>19</td>\n",
       "      <td>0</td>\n",
       "      <td>0</td>\n",
       "      <td>1</td>\n",
       "      <td>1</td>\n",
       "    </tr>\n",
       "    <tr>\n",
       "      <th>1</th>\n",
       "      <td>1021</td>\n",
       "      <td>1</td>\n",
       "      <td>0.5</td>\n",
       "      <td>1</td>\n",
       "      <td>0</td>\n",
       "      <td>1</td>\n",
       "      <td>53</td>\n",
       "      <td>0.7</td>\n",
       "      <td>136</td>\n",
       "      <td>3</td>\n",
       "      <td>6</td>\n",
       "      <td>905</td>\n",
       "      <td>1988</td>\n",
       "      <td>2631</td>\n",
       "      <td>17</td>\n",
       "      <td>3</td>\n",
       "      <td>7</td>\n",
       "      <td>1</td>\n",
       "      <td>1</td>\n",
       "      <td>0</td>\n",
       "      <td>2</td>\n",
       "    </tr>\n",
       "  </tbody>\n",
       "</table>\n",
       "</div>"
      ],
      "text/plain": [
       "   battery_power  blue  clock_speed  ...  touch_screen  wifi  price_range\n",
       "0            842     0          2.2  ...             0     1            1\n",
       "1           1021     1          0.5  ...             1     0            2\n",
       "\n",
       "[2 rows x 21 columns]"
      ]
     },
     "execution_count": 100,
     "metadata": {},
     "output_type": "execute_result"
    }
   ],
   "source": [
    "data.head(2)"
   ]
  },
  {
   "cell_type": "code",
   "execution_count": 101,
   "metadata": {},
   "outputs": [
    {
     "data": {
      "text/plain": [
       "battery_power    0\n",
       "blue             0\n",
       "clock_speed      0\n",
       "dual_sim         0\n",
       "fc               0\n",
       "four_g           0\n",
       "int_memory       0\n",
       "m_dep            0\n",
       "mobile_wt        0\n",
       "n_cores          0\n",
       "pc               0\n",
       "px_height        0\n",
       "px_width         0\n",
       "ram              0\n",
       "sc_h             0\n",
       "sc_w             0\n",
       "talk_time        0\n",
       "three_g          0\n",
       "touch_screen     0\n",
       "wifi             0\n",
       "price_range      0\n",
       "dtype: int64"
      ]
     },
     "execution_count": 101,
     "metadata": {},
     "output_type": "execute_result"
    }
   ],
   "source": [
    "data.isnull().sum()"
   ]
  },
  {
   "cell_type": "code",
   "execution_count": 102,
   "metadata": {},
   "outputs": [],
   "source": [
    "# Split data into features and target\n",
    "X = data[feature_columns]\n",
    "y = data[target_column]"
   ]
  },
  {
   "cell_type": "code",
   "execution_count": 103,
   "metadata": {},
   "outputs": [],
   "source": [
    "# Split dataset into training and testing sets\n",
    "X_train, X_test, y_train, y_test = train_test_split(X, y, test_size=0.2, random_state=42)"
   ]
  },
  {
   "cell_type": "code",
   "execution_count": 104,
   "metadata": {},
   "outputs": [],
   "source": [
    "nb_model = GaussianNB()\n",
    "lin_model = LinearRegression()\n",
    "log_model = LogisticRegression()\n",
    "svm_model = SVC()\n",
    "tree_model = DecisionTreeClassifier()\n",
    "random_model = RandomForestClassifier()"
   ]
  },
  {
   "cell_type": "code",
   "execution_count": 105,
   "metadata": {},
   "outputs": [
    {
     "name": "stdout",
     "output_type": "stream",
     "text": [
      "Navie Bayse\n",
      "Accuarcy :30.50%\n",
      "              precision    recall  f1-score   support\n",
      "\n",
      "           0       0.34      0.59      0.43       105\n",
      "           1       0.05      0.01      0.02        91\n",
      "           2       0.16      0.09      0.11        92\n",
      "           3       0.35      0.46      0.40       112\n",
      "\n",
      "    accuracy                           0.30       400\n",
      "   macro avg       0.22      0.29      0.24       400\n",
      "weighted avg       0.23      0.30      0.25       400\n",
      "\n"
     ]
    }
   ],
   "source": [
    "nb_model.fit(X_train, y_train)\n",
    "y_pred = nb_model.predict(X_test)\n",
    "accuracy = accuracy_score(y_test , y_pred)\n",
    "print('Navie Bayse')\n",
    "print(f'Accuarcy :{accuracy*100:.2f}%')\n",
    "print(classification_report(y_test , y_pred))"
   ]
  },
  {
   "cell_type": "code",
   "execution_count": 106,
   "metadata": {},
   "outputs": [
    {
     "name": "stdout",
     "output_type": "stream",
     "text": [
      "Linear Regression\n",
      "Accuracy :22.75%\n",
      "              precision    recall  f1-score   support\n",
      "\n",
      "           0       0.00      0.00      0.00       105\n",
      "           1       0.23      1.00      0.37        91\n",
      "           2       0.00      0.00      0.00        92\n",
      "           3       0.00      0.00      0.00       112\n",
      "\n",
      "    accuracy                           0.23       400\n",
      "   macro avg       0.06      0.25      0.09       400\n",
      "weighted avg       0.05      0.23      0.08       400\n",
      "\n"
     ]
    },
    {
     "name": "stderr",
     "output_type": "stream",
     "text": [
      "c:\\Users\\Mudassir Raza\\AppData\\Local\\Programs\\Python\\Python313\\Lib\\site-packages\\sklearn\\metrics\\_classification.py:1531: UndefinedMetricWarning: Precision is ill-defined and being set to 0.0 in labels with no predicted samples. Use `zero_division` parameter to control this behavior.\n",
      "  _warn_prf(average, modifier, f\"{metric.capitalize()} is\", len(result))\n",
      "c:\\Users\\Mudassir Raza\\AppData\\Local\\Programs\\Python\\Python313\\Lib\\site-packages\\sklearn\\metrics\\_classification.py:1531: UndefinedMetricWarning: Precision is ill-defined and being set to 0.0 in labels with no predicted samples. Use `zero_division` parameter to control this behavior.\n",
      "  _warn_prf(average, modifier, f\"{metric.capitalize()} is\", len(result))\n",
      "c:\\Users\\Mudassir Raza\\AppData\\Local\\Programs\\Python\\Python313\\Lib\\site-packages\\sklearn\\metrics\\_classification.py:1531: UndefinedMetricWarning: Precision is ill-defined and being set to 0.0 in labels with no predicted samples. Use `zero_division` parameter to control this behavior.\n",
      "  _warn_prf(average, modifier, f\"{metric.capitalize()} is\", len(result))\n"
     ]
    }
   ],
   "source": [
    "lin_model.fit(X_train , y_train)\n",
    "y_pred = lin_model.predict(X_test)\n",
    "# Convert continuous predictions to binary classes (for classification-like evaluation)\n",
    "#treshold means it convert the continuous number to binary\n",
    "# if the number is greater than or equal to (0.5) it converts to 1 and else to 0 \n",
    "binarizer = Binarizer(threshold=0.5)\n",
    "#reshape(1 ,-1) : converts the 1D array to 2D array as used by binarizer\n",
    "# flatten : converts the 2d array to 1d again for accuray report\n",
    "y_pred_lr_binary = binarizer.fit_transform(y_pred.reshape(-1, 1)).flatten()\n",
    "accuracy = accuracy_score(y_test , y_pred_lr_binary)\n",
    "print('Linear Regression')\n",
    "print(f'Accuracy :{accuracy*100:.2f}%')\n",
    "print(classification_report(y_test , y_pred_lr_binary))"
   ]
  },
  {
   "cell_type": "code",
   "execution_count": 107,
   "metadata": {},
   "outputs": [
    {
     "name": "stdout",
     "output_type": "stream",
     "text": [
      "Logistic Regression\n",
      "Accuracy:30.75%\n",
      "              precision    recall  f1-score   support\n",
      "\n",
      "           0       0.34      0.50      0.41       105\n",
      "           1       0.11      0.03      0.05        91\n",
      "           2       0.18      0.15      0.16        92\n",
      "           3       0.38      0.47      0.42       112\n",
      "\n",
      "    accuracy                           0.31       400\n",
      "   macro avg       0.25      0.29      0.26       400\n",
      "weighted avg       0.26      0.31      0.27       400\n",
      "\n"
     ]
    },
    {
     "name": "stderr",
     "output_type": "stream",
     "text": [
      "c:\\Users\\Mudassir Raza\\AppData\\Local\\Programs\\Python\\Python313\\Lib\\site-packages\\sklearn\\linear_model\\_logistic.py:469: ConvergenceWarning: lbfgs failed to converge (status=1):\n",
      "STOP: TOTAL NO. of ITERATIONS REACHED LIMIT.\n",
      "\n",
      "Increase the number of iterations (max_iter) or scale the data as shown in:\n",
      "    https://scikit-learn.org/stable/modules/preprocessing.html\n",
      "Please also refer to the documentation for alternative solver options:\n",
      "    https://scikit-learn.org/stable/modules/linear_model.html#logistic-regression\n",
      "  n_iter_i = _check_optimize_result(\n"
     ]
    }
   ],
   "source": [
    "log_model.fit(X_train , y_train)\n",
    "y_pred = log_model.predict (X_test)\n",
    "accuracy = accuracy_score(y_test , y_pred)\n",
    "print('Logistic Regression')\n",
    "print(f'Accuracy:{accuracy*100:.2f}%')\n",
    "print(classification_report(y_test , y_pred))"
   ]
  },
  {
   "cell_type": "code",
   "execution_count": 108,
   "metadata": {},
   "outputs": [
    {
     "name": "stdout",
     "output_type": "stream",
     "text": [
      "Decision tree\n",
      "accuracy:23.25%\n",
      "              precision    recall  f1-score   support\n",
      "\n",
      "           0       0.25      0.20      0.22       105\n",
      "           1       0.22      0.32      0.26        91\n",
      "           2       0.17      0.16      0.17        92\n",
      "           3       0.29      0.25      0.27       112\n",
      "\n",
      "    accuracy                           0.23       400\n",
      "   macro avg       0.23      0.23      0.23       400\n",
      "weighted avg       0.24      0.23      0.23       400\n",
      "\n"
     ]
    }
   ],
   "source": [
    "tree_model.fit(X_train, y_train)\n",
    "y_pred = tree_model.predict(X_test)\n",
    "accuracy = accuracy_score(y_test , y_pred)\n",
    "print('Decision tree')\n",
    "print(f'accuracy:{accuracy*100:.2f}%')\n",
    "print(classification_report(y_test , y_pred))"
   ]
  },
  {
   "cell_type": "code",
   "execution_count": 109,
   "metadata": {},
   "outputs": [
    {
     "name": "stdout",
     "output_type": "stream",
     "text": [
      "SVM MODEL\n",
      "accuracy:35.25%\n",
      "              precision    recall  f1-score   support\n",
      "\n",
      "           0       0.35      0.61      0.45       105\n",
      "           1       0.20      0.12      0.15        91\n",
      "           2       0.00      0.00      0.00        92\n",
      "           3       0.40      0.59      0.48       112\n",
      "\n",
      "    accuracy                           0.35       400\n",
      "   macro avg       0.24      0.33      0.27       400\n",
      "weighted avg       0.25      0.35      0.29       400\n",
      "\n"
     ]
    },
    {
     "name": "stderr",
     "output_type": "stream",
     "text": [
      "c:\\Users\\Mudassir Raza\\AppData\\Local\\Programs\\Python\\Python313\\Lib\\site-packages\\sklearn\\metrics\\_classification.py:1531: UndefinedMetricWarning: Precision is ill-defined and being set to 0.0 in labels with no predicted samples. Use `zero_division` parameter to control this behavior.\n",
      "  _warn_prf(average, modifier, f\"{metric.capitalize()} is\", len(result))\n",
      "c:\\Users\\Mudassir Raza\\AppData\\Local\\Programs\\Python\\Python313\\Lib\\site-packages\\sklearn\\metrics\\_classification.py:1531: UndefinedMetricWarning: Precision is ill-defined and being set to 0.0 in labels with no predicted samples. Use `zero_division` parameter to control this behavior.\n",
      "  _warn_prf(average, modifier, f\"{metric.capitalize()} is\", len(result))\n",
      "c:\\Users\\Mudassir Raza\\AppData\\Local\\Programs\\Python\\Python313\\Lib\\site-packages\\sklearn\\metrics\\_classification.py:1531: UndefinedMetricWarning: Precision is ill-defined and being set to 0.0 in labels with no predicted samples. Use `zero_division` parameter to control this behavior.\n",
      "  _warn_prf(average, modifier, f\"{metric.capitalize()} is\", len(result))\n"
     ]
    }
   ],
   "source": [
    "svm_model.fit(X_train , y_train)\n",
    "y_pred = svm_model.predict(X_test)\n",
    "accuracy = accuracy_score(y_test , y_pred)\n",
    "print('SVM MODEL')\n",
    "print(f'accuracy:{accuracy*100:.2f}%')\n",
    "print(classification_report(y_test , y_pred))"
   ]
  },
  {
   "cell_type": "code",
   "execution_count": 110,
   "metadata": {},
   "outputs": [
    {
     "name": "stdout",
     "output_type": "stream",
     "text": [
      "RANDOM FOREST CLASSIFIER\n",
      "Accuracy :26.75%\n",
      "              precision    recall  f1-score   support\n",
      "\n",
      "           0       0.27      0.24      0.26       105\n",
      "           1       0.30      0.38      0.33        91\n",
      "           2       0.16      0.17      0.16        92\n",
      "           3       0.35      0.28      0.31       112\n",
      "\n",
      "    accuracy                           0.27       400\n",
      "   macro avg       0.27      0.27      0.27       400\n",
      "weighted avg       0.27      0.27      0.27       400\n",
      "\n"
     ]
    }
   ],
   "source": [
    "random_model.fit(X_train , y_train)\n",
    "y_pred = random_model.predict(X_test)\n",
    "accuracy= accuracy_score(y_test , y_pred)\n",
    "print('RANDOM FOREST CLASSIFIER')\n",
    "print(f'Accuracy :{accuracy*100:.2f}%')\n",
    "print(classification_report(y_test , y_pred))"
   ]
  }
 ],
 "metadata": {
  "kernelspec": {
   "display_name": "Python 3",
   "language": "python",
   "name": "python3"
  },
  "language_info": {
   "codemirror_mode": {
    "name": "ipython",
    "version": 3
   },
   "file_extension": ".py",
   "mimetype": "text/x-python",
   "name": "python",
   "nbconvert_exporter": "python",
   "pygments_lexer": "ipython3",
   "version": "3.13.0"
  }
 },
 "nbformat": 4,
 "nbformat_minor": 2
}
