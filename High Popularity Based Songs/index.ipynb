{
 "cells": [
  {
   "cell_type": "code",
   "execution_count": 1,
   "metadata": {},
   "outputs": [],
   "source": [
    "import numpy as np\n",
    "import pandas as pd\n",
    "from sklearn.model_selection import train_test_split\n",
    "from sklearn.naive_bayes import GaussianNB\n",
    "from sklearn.ensemble import RandomForestClassifier\n",
    "from sklearn.tree import DecisionTreeClassifier\n",
    "from sklearn.svm import SVC\n",
    "from sklearn.linear_model import LogisticRegression , LinearRegression\n",
    "from sklearn.metrics import accuracy_score , classification_report , confusion_matrix\n",
    "import matplotlib.pyplot as plt"
   ]
  },
  {
   "cell_type": "code",
   "execution_count": 2,
   "metadata": {},
   "outputs": [],
   "source": [
    "songs = pd.read_csv('C:/Users/Mudassir Raza/Desktop/AI Project/Data-set High Popularity Based Songs/high_popularity_spotify_data.csv')"
   ]
  },
  {
   "cell_type": "code",
   "execution_count": 3,
   "metadata": {},
   "outputs": [],
   "source": [
    "feature_columns = ['energy', 'tempo', 'danceability', 'loudness', 'liveness', 'valence', 'speechiness', 'instrumentalness', 'acousticness']\n",
    "target_column = 'track_popularity'"
   ]
  },
  {
   "cell_type": "code",
   "execution_count": 4,
   "metadata": {},
   "outputs": [],
   "source": [
    "songs['popular'] = songs[target_column] >= 80  # Assuming track_popularity >= 80 is considered popular['popular'] = songs['popular'].astype(int)"
   ]
  },
  {
   "cell_type": "code",
   "execution_count": 5,
   "metadata": {},
   "outputs": [],
   "source": [
    "X = songs[feature_columns]\n",
    "y = songs['popular']"
   ]
  },
  {
   "cell_type": "code",
   "execution_count": 6,
   "metadata": {},
   "outputs": [],
   "source": [
    "X_train, X_test, y_train, y_test = train_test_split(X, y, test_size=0.2, random_state=42)"
   ]
  },
  {
   "cell_type": "code",
   "execution_count": 7,
   "metadata": {},
   "outputs": [],
   "source": [
    "nb_model = GaussianNB()\n",
    "random_model= RandomForestClassifier()\n",
    "decision_model= DecisionTreeClassifier()\n",
    "svm_model = SVC()\n",
    "linear_model = LinearRegression()\n",
    "logistic_model = LogisticRegression()"
   ]
  },
  {
   "cell_type": "code",
   "execution_count": 8,
   "metadata": {},
   "outputs": [
    {
     "name": "stdout",
     "output_type": "stream",
     "text": [
      "Navie bayse\n",
      "accuracy: 64.50%\n",
      "              precision    recall  f1-score   support\n",
      "\n",
      "       False       0.74      0.80      0.77       251\n",
      "        True       0.26      0.21      0.23        87\n",
      "\n",
      "    accuracy                           0.64       338\n",
      "   macro avg       0.50      0.50      0.50       338\n",
      "weighted avg       0.62      0.64      0.63       338\n",
      "\n"
     ]
    }
   ],
   "source": [
    "nb_model.fit(X_train, y_train)\n",
    "y_pred = nb_model.predict(X_test)\n",
    "accuracy = accuracy_score(y_test , y_pred)\n",
    "print('Navie bayse')\n",
    "print(f'accuracy: {accuracy*100:.2f}%')\n",
    "print(classification_report(y_test, y_pred))\n"
   ]
  },
  {
   "cell_type": "code",
   "execution_count": 9,
   "metadata": {},
   "outputs": [
    {
     "name": "stdout",
     "output_type": "stream",
     "text": [
      "Random Forest\n",
      "accuracy : 83.43%\n",
      "              precision    recall  f1-score   support\n",
      "\n",
      "       False       0.82      1.00      0.90       251\n",
      "        True       0.97      0.37      0.53        87\n",
      "\n",
      "    accuracy                           0.83       338\n",
      "   macro avg       0.89      0.68      0.72       338\n",
      "weighted avg       0.86      0.83      0.81       338\n",
      "\n"
     ]
    }
   ],
   "source": [
    "random_model.fit(X_train , y_train)\n",
    "y_pred = random_model.predict(X_test)\n",
    "accuracy = accuracy_score(y_test , y_pred)\n",
    "print('Random Forest')\n",
    "print(f'accuracy : {accuracy*100:.2f}%')\n",
    "print(classification_report(y_test , y_pred)) "
   ]
  },
  {
   "cell_type": "code",
   "execution_count": 10,
   "metadata": {},
   "outputs": [
    {
     "name": "stdout",
     "output_type": "stream",
     "text": [
      "Decision Tree\n",
      "Accuracy :75.44%\n",
      "              precision    recall  f1-score   support\n",
      "\n",
      "       False       0.82      0.85      0.84       251\n",
      "        True       0.53      0.47      0.50        87\n",
      "\n",
      "    accuracy                           0.75       338\n",
      "   macro avg       0.67      0.66      0.67       338\n",
      "weighted avg       0.75      0.75      0.75       338\n",
      "\n"
     ]
    }
   ],
   "source": [
    "decision_model.fit(X_train , y_train)\n",
    "y_pred = decision_model.predict(X_test)\n",
    "accuracy = accuracy_score(y_test , y_pred)\n",
    "print('Decision Tree')\n",
    "print(f'Accuracy :{accuracy*100:.2f}%')\n",
    "print(classification_report(y_test , y_pred))"
   ]
  },
  {
   "cell_type": "code",
   "execution_count": 11,
   "metadata": {},
   "outputs": [
    {
     "name": "stdout",
     "output_type": "stream",
     "text": [
      "SVM\n",
      "Accuracy : 74.26%\n",
      "              precision    recall  f1-score   support\n",
      "\n",
      "       False       0.74      1.00      0.85       251\n",
      "        True       0.00      0.00      0.00        87\n",
      "\n",
      "    accuracy                           0.74       338\n",
      "   macro avg       0.37      0.50      0.43       338\n",
      "weighted avg       0.55      0.74      0.63       338\n",
      "\n"
     ]
    },
    {
     "name": "stderr",
     "output_type": "stream",
     "text": [
      "c:\\Users\\Mudassir Raza\\AppData\\Local\\Programs\\Python\\Python313\\Lib\\site-packages\\sklearn\\metrics\\_classification.py:1531: UndefinedMetricWarning: Precision is ill-defined and being set to 0.0 in labels with no predicted samples. Use `zero_division` parameter to control this behavior.\n",
      "  _warn_prf(average, modifier, f\"{metric.capitalize()} is\", len(result))\n",
      "c:\\Users\\Mudassir Raza\\AppData\\Local\\Programs\\Python\\Python313\\Lib\\site-packages\\sklearn\\metrics\\_classification.py:1531: UndefinedMetricWarning: Precision is ill-defined and being set to 0.0 in labels with no predicted samples. Use `zero_division` parameter to control this behavior.\n",
      "  _warn_prf(average, modifier, f\"{metric.capitalize()} is\", len(result))\n",
      "c:\\Users\\Mudassir Raza\\AppData\\Local\\Programs\\Python\\Python313\\Lib\\site-packages\\sklearn\\metrics\\_classification.py:1531: UndefinedMetricWarning: Precision is ill-defined and being set to 0.0 in labels with no predicted samples. Use `zero_division` parameter to control this behavior.\n",
      "  _warn_prf(average, modifier, f\"{metric.capitalize()} is\", len(result))\n"
     ]
    }
   ],
   "source": [
    "svm_model.fit(X_train , y_train)\n",
    "y_pred = svm_model.predict(X_test)\n",
    "accuracy = accuracy_score(y_test , y_pred)\n",
    "print('SVM')\n",
    "print(f'Accuracy : {accuracy*100:.2f}%')\n",
    "print(classification_report(y_test , y_pred))\n"
   ]
  },
  {
   "cell_type": "code",
   "execution_count": 12,
   "metadata": {},
   "outputs": [
    {
     "name": "stdout",
     "output_type": "stream",
     "text": [
      "Linear Regression\n",
      "Accuracy : 74.26%\n",
      "              precision    recall  f1-score   support\n",
      "\n",
      "       False       0.74      1.00      0.85       251\n",
      "        True       0.00      0.00      0.00        87\n",
      "\n",
      "    accuracy                           0.74       338\n",
      "   macro avg       0.37      0.50      0.43       338\n",
      "weighted avg       0.55      0.74      0.63       338\n",
      "\n"
     ]
    },
    {
     "name": "stderr",
     "output_type": "stream",
     "text": [
      "c:\\Users\\Mudassir Raza\\AppData\\Local\\Programs\\Python\\Python313\\Lib\\site-packages\\sklearn\\metrics\\_classification.py:1531: UndefinedMetricWarning: Precision is ill-defined and being set to 0.0 in labels with no predicted samples. Use `zero_division` parameter to control this behavior.\n",
      "  _warn_prf(average, modifier, f\"{metric.capitalize()} is\", len(result))\n",
      "c:\\Users\\Mudassir Raza\\AppData\\Local\\Programs\\Python\\Python313\\Lib\\site-packages\\sklearn\\metrics\\_classification.py:1531: UndefinedMetricWarning: Precision is ill-defined and being set to 0.0 in labels with no predicted samples. Use `zero_division` parameter to control this behavior.\n",
      "  _warn_prf(average, modifier, f\"{metric.capitalize()} is\", len(result))\n",
      "c:\\Users\\Mudassir Raza\\AppData\\Local\\Programs\\Python\\Python313\\Lib\\site-packages\\sklearn\\metrics\\_classification.py:1531: UndefinedMetricWarning: Precision is ill-defined and being set to 0.0 in labels with no predicted samples. Use `zero_division` parameter to control this behavior.\n",
      "  _warn_prf(average, modifier, f\"{metric.capitalize()} is\", len(result))\n"
     ]
    }
   ],
   "source": [
    "linear_model.fit(X_train , y_train)\n",
    "y_pred = linear_model.predict(X_test)\n",
    "lin_reg_pred_binary = [1 if pred >= 0.5 else 0 for pred in linear_model.predict(X_test)]\n",
    "accuracy = accuracy_score(y_test , lin_reg_pred_binary)\n",
    "print('Linear Regression')\n",
    "print(f'Accuracy : {accuracy*100:.2f}%')\n",
    "print(classification_report(y_test , lin_reg_pred_binary))"
   ]
  },
  {
   "cell_type": "code",
   "execution_count": 13,
   "metadata": {},
   "outputs": [
    {
     "name": "stdout",
     "output_type": "stream",
     "text": [
      "Logistic Regression\n",
      "Accuracy : 74.26%\n",
      "              precision    recall  f1-score   support\n",
      "\n",
      "       False       0.74      1.00      0.85       251\n",
      "        True       0.00      0.00      0.00        87\n",
      "\n",
      "    accuracy                           0.74       338\n",
      "   macro avg       0.37      0.50      0.43       338\n",
      "weighted avg       0.55      0.74      0.63       338\n",
      "\n"
     ]
    },
    {
     "name": "stderr",
     "output_type": "stream",
     "text": [
      "c:\\Users\\Mudassir Raza\\AppData\\Local\\Programs\\Python\\Python313\\Lib\\site-packages\\sklearn\\linear_model\\_logistic.py:469: ConvergenceWarning: lbfgs failed to converge (status=1):\n",
      "STOP: TOTAL NO. of ITERATIONS REACHED LIMIT.\n",
      "\n",
      "Increase the number of iterations (max_iter) or scale the data as shown in:\n",
      "    https://scikit-learn.org/stable/modules/preprocessing.html\n",
      "Please also refer to the documentation for alternative solver options:\n",
      "    https://scikit-learn.org/stable/modules/linear_model.html#logistic-regression\n",
      "  n_iter_i = _check_optimize_result(\n",
      "c:\\Users\\Mudassir Raza\\AppData\\Local\\Programs\\Python\\Python313\\Lib\\site-packages\\sklearn\\metrics\\_classification.py:1531: UndefinedMetricWarning: Precision is ill-defined and being set to 0.0 in labels with no predicted samples. Use `zero_division` parameter to control this behavior.\n",
      "  _warn_prf(average, modifier, f\"{metric.capitalize()} is\", len(result))\n",
      "c:\\Users\\Mudassir Raza\\AppData\\Local\\Programs\\Python\\Python313\\Lib\\site-packages\\sklearn\\metrics\\_classification.py:1531: UndefinedMetricWarning: Precision is ill-defined and being set to 0.0 in labels with no predicted samples. Use `zero_division` parameter to control this behavior.\n",
      "  _warn_prf(average, modifier, f\"{metric.capitalize()} is\", len(result))\n",
      "c:\\Users\\Mudassir Raza\\AppData\\Local\\Programs\\Python\\Python313\\Lib\\site-packages\\sklearn\\metrics\\_classification.py:1531: UndefinedMetricWarning: Precision is ill-defined and being set to 0.0 in labels with no predicted samples. Use `zero_division` parameter to control this behavior.\n",
      "  _warn_prf(average, modifier, f\"{metric.capitalize()} is\", len(result))\n"
     ]
    }
   ],
   "source": [
    "logistic_model.fit(X_train , y_train)\n",
    "y_pred = logistic_model.predict(X_test)\n",
    "accuracy = accuracy_score(y_test , y_pred)\n",
    "print('Logistic Regression')\n",
    "print(f'Accuracy : {accuracy*100:.2f}%')\n",
    "print(classification_report(y_test , y_pred))"
   ]
  }
 ],
 "metadata": {
  "kernelspec": {
   "display_name": "Python 3",
   "language": "python",
   "name": "python3"
  },
  "language_info": {
   "codemirror_mode": {
    "name": "ipython",
    "version": 3
   },
   "file_extension": ".py",
   "mimetype": "text/x-python",
   "name": "python",
   "nbconvert_exporter": "python",
   "pygments_lexer": "ipython3",
   "version": "3.13.0"
  }
 },
 "nbformat": 4,
 "nbformat_minor": 2
}
