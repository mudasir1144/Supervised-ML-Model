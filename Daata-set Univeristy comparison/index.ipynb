{
 "cells": [
  {
   "cell_type": "code",
   "execution_count": 1,
   "metadata": {},
   "outputs": [],
   "source": [
    "import numpy as np\n",
    "import pandas as pd\n",
    "from sklearn.model_selection import train_test_split\n",
    "from sklearn.naive_bayes import  GaussianNB\n",
    "from sklearn.linear_model import LinearRegression , LogisticRegression\n",
    "from sklearn.tree import DecisionTreeClassifier\n",
    "from sklearn.ensemble import RandomForestClassifier\n",
    "from sklearn.svm import SVC\n",
    "from sklearn.metrics import accuracy_score , classification_report\n",
    "from sklearn.feature_extraction.text import CountVectorizer"
   ]
  },
  {
   "cell_type": "code",
   "execution_count": 2,
   "metadata": {},
   "outputs": [],
   "source": [
    "# Classification thorugh Global ranking of univeristies\n",
    "uni_data = pd.read_csv('C:/Users/Mudassir Raza/Desktop/AI Project/Daata-set Univeristy comparison/top universities.csv')"
   ]
  },
  {
   "cell_type": "code",
   "execution_count": 3,
   "metadata": {},
   "outputs": [],
   "source": [
    "# (Glaobal rank) = point the column\n",
    "# apply function  = is the function used to apply function on every value in column.\n",
    "# lambda = lambda is shortest way to write the function\n",
    "# x represent the value in the column\n",
    "uni_data['Rank Category'] = uni_data['Global Rank'].apply(lambda x: 'High' if x <= 3000 else 'Low')"
   ]
  },
  {
   "cell_type": "code",
   "execution_count": 4,
   "metadata": {},
   "outputs": [],
   "source": [
    "X = uni_data['Country']\n",
    "y = uni_data['Rank Category'].values #.value = ensure the y is 1d array!"
   ]
  },
  {
   "cell_type": "code",
   "execution_count": 5,
   "metadata": {},
   "outputs": [],
   "source": [
    "# Convert text data to numerical format using CountVectorizer\n",
    "# CountVectorizer = Convert the text to numerical value - counts how many time a unique word appear in the text\n",
    "# fit_transform = learn the unique words from X  and count how many time each word apperas\n",
    "vectorizer = CountVectorizer()\n",
    "X_vectorized = vectorizer.fit_transform(X).toarray()"
   ]
  },
  {
   "cell_type": "code",
   "execution_count": 6,
   "metadata": {},
   "outputs": [],
   "source": [
    "\n",
    "# Linear Regression: Predict Global Rank using numerical features (e.g., Country length)\n",
    "uni_data['Country Length'] = uni_data['Country'].apply(len)\n",
    "X_linear = uni_data[['Country Length']]\n",
    "y_linear = uni_data['Global Rank']"
   ]
  },
  {
   "cell_type": "code",
   "execution_count": 7,
   "metadata": {},
   "outputs": [],
   "source": [
    "X_train, X_test, y_train, y_test = train_test_split(X_vectorized, y, test_size=0.3, random_state=42)"
   ]
  },
  {
   "cell_type": "code",
   "execution_count": 8,
   "metadata": {},
   "outputs": [],
   "source": [
    "X_train_lr, X_test_lr, y_train_lr, y_test_lr = train_test_split(X_linear, y_linear, test_size=0.3, random_state=42)\n"
   ]
  },
  {
   "cell_type": "code",
   "execution_count": 9,
   "metadata": {},
   "outputs": [],
   "source": [
    "# Train models\n",
    "nb_model = GaussianNB()\n",
    "lin_model = LinearRegression()\n",
    "log_model = LogisticRegression()\n",
    "svm_model = SVC()\n",
    "tree_model = DecisionTreeClassifier()\n",
    "random_model = RandomForestClassifier()\n"
   ]
  },
  {
   "cell_type": "code",
   "execution_count": 10,
   "metadata": {},
   "outputs": [
    {
     "name": "stdout",
     "output_type": "stream",
     "text": [
      "Model Accuracy: 38.93%\n",
      "              precision    recall  f1-score   support\n",
      "\n",
      "        High       0.27      0.97      0.42       890\n",
      "         Low       0.96      0.22      0.35      2955\n",
      "\n",
      "    accuracy                           0.39      3845\n",
      "   macro avg       0.61      0.59      0.39      3845\n",
      "weighted avg       0.80      0.39      0.37      3845\n",
      "\n"
     ]
    }
   ],
   "source": [
    "\n",
    "nb_model.fit(X_train, y_train)\n",
    "# Make predictions and calculate accuracy\n",
    "y_pred = nb_model.predict(X_test)\n",
    "accuracy = accuracy_score(y_test, y_pred)\n",
    "print(f'Model Accuracy: {accuracy * 100:.2f}%')\n",
    "print(classification_report(y_test , y_pred))"
   ]
  },
  {
   "cell_type": "code",
   "execution_count": 11,
   "metadata": {},
   "outputs": [
    {
     "name": "stdout",
     "output_type": "stream",
     "text": [
      "LinearRegression\n",
      "accuracy:76.85%\n",
      "              precision    recall  f1-score   support\n",
      "\n",
      "        High       0.00      0.00      0.00       890\n",
      "         Low       0.77      1.00      0.87      2955\n",
      "\n",
      "    accuracy                           0.77      3845\n",
      "   macro avg       0.38      0.50      0.43      3845\n",
      "weighted avg       0.59      0.77      0.67      3845\n",
      "\n"
     ]
    },
    {
     "name": "stderr",
     "output_type": "stream",
     "text": [
      "c:\\Users\\Mudassir Raza\\AppData\\Local\\Programs\\Python\\Python313\\Lib\\site-packages\\sklearn\\metrics\\_classification.py:1531: UndefinedMetricWarning: Precision is ill-defined and being set to 0.0 in labels with no predicted samples. Use `zero_division` parameter to control this behavior.\n",
      "  _warn_prf(average, modifier, f\"{metric.capitalize()} is\", len(result))\n",
      "c:\\Users\\Mudassir Raza\\AppData\\Local\\Programs\\Python\\Python313\\Lib\\site-packages\\sklearn\\metrics\\_classification.py:1531: UndefinedMetricWarning: Precision is ill-defined and being set to 0.0 in labels with no predicted samples. Use `zero_division` parameter to control this behavior.\n",
      "  _warn_prf(average, modifier, f\"{metric.capitalize()} is\", len(result))\n",
      "c:\\Users\\Mudassir Raza\\AppData\\Local\\Programs\\Python\\Python313\\Lib\\site-packages\\sklearn\\metrics\\_classification.py:1531: UndefinedMetricWarning: Precision is ill-defined and being set to 0.0 in labels with no predicted samples. Use `zero_division` parameter to control this behavior.\n",
      "  _warn_prf(average, modifier, f\"{metric.capitalize()} is\", len(result))\n"
     ]
    }
   ],
   "source": [
    "lin_model.fit(X_train_lr, y_train_lr)\n",
    "y_pred_lr = lin_model.predict(X_test_lr)\n",
    "y_pred_lr_category = ['High' if rank <= 3000 else 'Low' for rank in y_pred_lr]\n",
    "y_test_lr_category = ['High' if rank <= 3000 else 'Low' for rank in y_test_lr]\n",
    "accuracy = accuracy_score(y_test_lr_category, y_pred_lr_category)\n",
    "print('LinearRegression')\n",
    "print(f'accuracy:{accuracy*100:.2f}%')\n",
    "print(classification_report(y_test_lr_category, y_pred_lr_category))"
   ]
  },
  {
   "cell_type": "code",
   "execution_count": 12,
   "metadata": {},
   "outputs": [
    {
     "name": "stdout",
     "output_type": "stream",
     "text": [
      "Logistic Regression\n",
      "accuracy:81.46%\n",
      "              precision    recall  f1-score   support\n",
      "\n",
      "        High       0.62      0.50      0.56       890\n",
      "         Low       0.86      0.91      0.88      2955\n",
      "\n",
      "    accuracy                           0.81      3845\n",
      "   macro avg       0.74      0.71      0.72      3845\n",
      "weighted avg       0.80      0.81      0.81      3845\n",
      "\n"
     ]
    }
   ],
   "source": [
    "log_model.fit(X_train , y_train)\n",
    "y_pred = log_model.predict(X_test)\n",
    "accuracy = accuracy_score(y_test , y_pred)\n",
    "print('Logistic Regression')\n",
    "print(f'accuracy:{accuracy*100:.2f}%')\n",
    "print(classification_report(y_test, y_pred))"
   ]
  },
  {
   "cell_type": "code",
   "execution_count": 13,
   "metadata": {},
   "outputs": [
    {
     "name": "stdout",
     "output_type": "stream",
     "text": [
      "Decision Tree\n",
      "accuracy:81.59%\n",
      "              precision    recall  f1-score   support\n",
      "\n",
      "        High       0.62      0.52      0.57       890\n",
      "         Low       0.86      0.90      0.88      2955\n",
      "\n",
      "    accuracy                           0.82      3845\n",
      "   macro avg       0.74      0.71      0.73      3845\n",
      "weighted avg       0.81      0.82      0.81      3845\n",
      "\n"
     ]
    }
   ],
   "source": [
    "tree_model.fit(X_train , y_train)\n",
    "y_pred = tree_model.predict(X_test)\n",
    "accuracy = accuracy_score(y_test , y_pred)\n",
    "print('Decision Tree')\n",
    "print(f'accuracy:{accuracy*100:.2f}%')\n",
    "print(classification_report(y_test , y_pred))"
   ]
  },
  {
   "cell_type": "code",
   "execution_count": 14,
   "metadata": {},
   "outputs": [
    {
     "name": "stdout",
     "output_type": "stream",
     "text": [
      "Random Forest\n",
      "accuracy:81.66%\n",
      "              precision    recall  f1-score   support\n",
      "\n",
      "        High       0.62      0.52      0.57       890\n",
      "         Low       0.86      0.90      0.88      2955\n",
      "\n",
      "    accuracy                           0.82      3845\n",
      "   macro avg       0.74      0.71      0.73      3845\n",
      "weighted avg       0.81      0.82      0.81      3845\n",
      "\n"
     ]
    }
   ],
   "source": [
    "random_model.fit(X_train , y_train)\n",
    "y_pred = random_model.predict(X_test)\n",
    "accuracy = accuracy_score(y_test , y_pred)\n",
    "print('Random Forest')\n",
    "print(f'accuracy:{accuracy*100:.2f}%')\n",
    "print(classification_report(y_test , y_pred))"
   ]
  },
  {
   "cell_type": "code",
   "execution_count": 15,
   "metadata": {},
   "outputs": [
    {
     "name": "stdout",
     "output_type": "stream",
     "text": [
      "SVM\n",
      "accuracy:81.66%\n",
      "              precision    recall  f1-score   support\n",
      "\n",
      "        High       0.62      0.52      0.57       890\n",
      "         Low       0.86      0.91      0.88      2955\n",
      "\n",
      "    accuracy                           0.82      3845\n",
      "   macro avg       0.74      0.71      0.73      3845\n",
      "weighted avg       0.81      0.82      0.81      3845\n",
      "\n"
     ]
    }
   ],
   "source": [
    "svm_model.fit(X_train , y_train)\n",
    "y_pred = svm_model.predict(X_test)\n",
    "accuracy = accuracy_score(y_test, y_pred)\n",
    "print('SVM')\n",
    "print(f'accuracy:{accuracy*100:.2f}%')\n",
    "print(classification_report(y_test, y_pred))"
   ]
  }
 ],
 "metadata": {
  "kernelspec": {
   "display_name": "Python 3",
   "language": "python",
   "name": "python3"
  },
  "language_info": {
   "codemirror_mode": {
    "name": "ipython",
    "version": 3
   },
   "file_extension": ".py",
   "mimetype": "text/x-python",
   "name": "python",
   "nbconvert_exporter": "python",
   "pygments_lexer": "ipython3",
   "version": "3.13.0"
  }
 },
 "nbformat": 4,
 "nbformat_minor": 2
}
